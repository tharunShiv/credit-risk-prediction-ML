{
 "cells": [
  {
   "cell_type": "markdown",
   "metadata": {},
   "source": [
    "## Import the Packages"
   ]
  },
  {
   "cell_type": "code",
   "execution_count": 1,
   "metadata": {
    "collapsed": true
   },
   "outputs": [],
   "source": [
    "import numpy as np\n",
    "import matplotlib.pyplot as plt\n",
    "import pandas as pd"
   ]
  },
  {
   "cell_type": "code",
   "execution_count": 2,
   "metadata": {
    "collapsed": false
   },
   "outputs": [],
   "source": [
    "df = pd.read_csv('german.data-numeric', delim_whitespace=True, header=None)"
   ]
  },
  {
   "cell_type": "code",
   "execution_count": 3,
   "metadata": {
    "collapsed": false
   },
   "outputs": [],
   "source": [
    "df[24] = df[24].apply(lambda x: x - 1)"
   ]
  },
  {
   "cell_type": "code",
   "execution_count": 4,
   "metadata": {
    "collapsed": false
   },
   "outputs": [
    {
     "data": {
      "text/html": [
       "<div>\n",
       "<table border=\"1\" class=\"dataframe\">\n",
       "  <thead>\n",
       "    <tr style=\"text-align: right;\">\n",
       "      <th></th>\n",
       "      <th>0</th>\n",
       "      <th>1</th>\n",
       "      <th>2</th>\n",
       "      <th>3</th>\n",
       "      <th>4</th>\n",
       "      <th>5</th>\n",
       "      <th>6</th>\n",
       "      <th>7</th>\n",
       "      <th>8</th>\n",
       "      <th>9</th>\n",
       "      <th>...</th>\n",
       "      <th>15</th>\n",
       "      <th>16</th>\n",
       "      <th>17</th>\n",
       "      <th>18</th>\n",
       "      <th>19</th>\n",
       "      <th>20</th>\n",
       "      <th>21</th>\n",
       "      <th>22</th>\n",
       "      <th>23</th>\n",
       "      <th>24</th>\n",
       "    </tr>\n",
       "  </thead>\n",
       "  <tbody>\n",
       "    <tr>\n",
       "      <th>0</th>\n",
       "      <td>1</td>\n",
       "      <td>6</td>\n",
       "      <td>4</td>\n",
       "      <td>12</td>\n",
       "      <td>5</td>\n",
       "      <td>5</td>\n",
       "      <td>3</td>\n",
       "      <td>4</td>\n",
       "      <td>1</td>\n",
       "      <td>67</td>\n",
       "      <td>...</td>\n",
       "      <td>0</td>\n",
       "      <td>0</td>\n",
       "      <td>1</td>\n",
       "      <td>0</td>\n",
       "      <td>0</td>\n",
       "      <td>1</td>\n",
       "      <td>0</td>\n",
       "      <td>0</td>\n",
       "      <td>1</td>\n",
       "      <td>0</td>\n",
       "    </tr>\n",
       "    <tr>\n",
       "      <th>1</th>\n",
       "      <td>2</td>\n",
       "      <td>48</td>\n",
       "      <td>2</td>\n",
       "      <td>60</td>\n",
       "      <td>1</td>\n",
       "      <td>3</td>\n",
       "      <td>2</td>\n",
       "      <td>2</td>\n",
       "      <td>1</td>\n",
       "      <td>22</td>\n",
       "      <td>...</td>\n",
       "      <td>0</td>\n",
       "      <td>0</td>\n",
       "      <td>1</td>\n",
       "      <td>0</td>\n",
       "      <td>0</td>\n",
       "      <td>1</td>\n",
       "      <td>0</td>\n",
       "      <td>0</td>\n",
       "      <td>1</td>\n",
       "      <td>1</td>\n",
       "    </tr>\n",
       "    <tr>\n",
       "      <th>2</th>\n",
       "      <td>4</td>\n",
       "      <td>12</td>\n",
       "      <td>4</td>\n",
       "      <td>21</td>\n",
       "      <td>1</td>\n",
       "      <td>4</td>\n",
       "      <td>3</td>\n",
       "      <td>3</td>\n",
       "      <td>1</td>\n",
       "      <td>49</td>\n",
       "      <td>...</td>\n",
       "      <td>0</td>\n",
       "      <td>0</td>\n",
       "      <td>1</td>\n",
       "      <td>0</td>\n",
       "      <td>0</td>\n",
       "      <td>1</td>\n",
       "      <td>0</td>\n",
       "      <td>1</td>\n",
       "      <td>0</td>\n",
       "      <td>0</td>\n",
       "    </tr>\n",
       "    <tr>\n",
       "      <th>3</th>\n",
       "      <td>1</td>\n",
       "      <td>42</td>\n",
       "      <td>2</td>\n",
       "      <td>79</td>\n",
       "      <td>1</td>\n",
       "      <td>4</td>\n",
       "      <td>3</td>\n",
       "      <td>4</td>\n",
       "      <td>2</td>\n",
       "      <td>45</td>\n",
       "      <td>...</td>\n",
       "      <td>0</td>\n",
       "      <td>0</td>\n",
       "      <td>0</td>\n",
       "      <td>0</td>\n",
       "      <td>0</td>\n",
       "      <td>0</td>\n",
       "      <td>0</td>\n",
       "      <td>0</td>\n",
       "      <td>1</td>\n",
       "      <td>0</td>\n",
       "    </tr>\n",
       "    <tr>\n",
       "      <th>4</th>\n",
       "      <td>1</td>\n",
       "      <td>24</td>\n",
       "      <td>3</td>\n",
       "      <td>49</td>\n",
       "      <td>1</td>\n",
       "      <td>3</td>\n",
       "      <td>3</td>\n",
       "      <td>4</td>\n",
       "      <td>4</td>\n",
       "      <td>53</td>\n",
       "      <td>...</td>\n",
       "      <td>1</td>\n",
       "      <td>0</td>\n",
       "      <td>1</td>\n",
       "      <td>0</td>\n",
       "      <td>0</td>\n",
       "      <td>0</td>\n",
       "      <td>0</td>\n",
       "      <td>0</td>\n",
       "      <td>1</td>\n",
       "      <td>1</td>\n",
       "    </tr>\n",
       "  </tbody>\n",
       "</table>\n",
       "<p>5 rows × 25 columns</p>\n",
       "</div>"
      ],
      "text/plain": [
       "   0   1   2   3   4   5   6   7   8   9  ...  15  16  17  18  19  20  21  22  \\\n",
       "0   1   6   4  12   5   5   3   4   1  67 ...   0   0   1   0   0   1   0   0   \n",
       "1   2  48   2  60   1   3   2   2   1  22 ...   0   0   1   0   0   1   0   0   \n",
       "2   4  12   4  21   1   4   3   3   1  49 ...   0   0   1   0   0   1   0   1   \n",
       "3   1  42   2  79   1   4   3   4   2  45 ...   0   0   0   0   0   0   0   0   \n",
       "4   1  24   3  49   1   3   3   4   4  53 ...   1   0   1   0   0   0   0   0   \n",
       "\n",
       "   23  24  \n",
       "0   1   0  \n",
       "1   1   1  \n",
       "2   0   0  \n",
       "3   1   0  \n",
       "4   1   1  \n",
       "\n",
       "[5 rows x 25 columns]"
      ]
     },
     "execution_count": 4,
     "metadata": {},
     "output_type": "execute_result"
    }
   ],
   "source": [
    "df.head()"
   ]
  },
  {
   "cell_type": "markdown",
   "metadata": {},
   "source": [
    "## Scaling the data\n",
    "I tried using scaled data, which made no difference. If you are able to increase the accuracy, then PULL REQUEST"
   ]
  },
  {
   "cell_type": "code",
   "execution_count": 5,
   "metadata": {
    "collapsed": true
   },
   "outputs": [],
   "source": [
    "from sklearn.preprocessing import StandardScaler"
   ]
  },
  {
   "cell_type": "code",
   "execution_count": 6,
   "metadata": {
    "collapsed": true
   },
   "outputs": [],
   "source": [
    "sc = StandardScaler()"
   ]
  },
  {
   "cell_type": "code",
   "execution_count": 7,
   "metadata": {
    "collapsed": true
   },
   "outputs": [],
   "source": [
    "from sklearn.model_selection import train_test_split"
   ]
  },
  {
   "cell_type": "code",
   "execution_count": 8,
   "metadata": {
    "collapsed": true
   },
   "outputs": [],
   "source": [
    "X = df.iloc[:, :-1]"
   ]
  },
  {
   "cell_type": "code",
   "execution_count": 57,
   "metadata": {
    "collapsed": false
   },
   "outputs": [
    {
     "data": {
      "text/plain": [
       "(1000, 24)"
      ]
     },
     "execution_count": 57,
     "metadata": {},
     "output_type": "execute_result"
    }
   ],
   "source": [
    "X.shape"
   ]
  },
  {
   "cell_type": "code",
   "execution_count": 10,
   "metadata": {
    "collapsed": true
   },
   "outputs": [],
   "source": [
    "y = df.iloc[:, -1]"
   ]
  },
  {
   "cell_type": "code",
   "execution_count": 58,
   "metadata": {
    "collapsed": false
   },
   "outputs": [
    {
     "data": {
      "text/plain": [
       "(1000,)"
      ]
     },
     "execution_count": 58,
     "metadata": {},
     "output_type": "execute_result"
    }
   ],
   "source": [
    "y.shape"
   ]
  },
  {
   "cell_type": "markdown",
   "metadata": {},
   "source": [
    "## Train Test Split"
   ]
  },
  {
   "cell_type": "code",
   "execution_count": 12,
   "metadata": {
    "collapsed": false
   },
   "outputs": [],
   "source": [
    "X_train, X_test, y_train, y_test = train_test_split(X, y, test_size=0.3, random_state=42)"
   ]
  },
  {
   "cell_type": "code",
   "execution_count": 13,
   "metadata": {
    "collapsed": false
   },
   "outputs": [
    {
     "data": {
      "text/plain": [
       "(700, 24)"
      ]
     },
     "execution_count": 13,
     "metadata": {},
     "output_type": "execute_result"
    }
   ],
   "source": [
    "X_train.shape"
   ]
  },
  {
   "cell_type": "code",
   "execution_count": 14,
   "metadata": {
    "collapsed": false
   },
   "outputs": [],
   "source": [
    "sc_X = sc.fit_transform(X_train)"
   ]
  },
  {
   "cell_type": "code",
   "execution_count": 15,
   "metadata": {
    "collapsed": true
   },
   "outputs": [],
   "source": [
    "sc_test = sc.transform(X_test)"
   ]
  },
  {
   "cell_type": "code",
   "execution_count": 16,
   "metadata": {
    "collapsed": false
   },
   "outputs": [
    {
     "data": {
      "text/plain": [
       "(300, 24)"
      ]
     },
     "execution_count": 16,
     "metadata": {},
     "output_type": "execute_result"
    }
   ],
   "source": [
    "sc_test.shape"
   ]
  },
  {
   "cell_type": "markdown",
   "metadata": {},
   "source": [
    "## Using the Random Forest Classifiers"
   ]
  },
  {
   "cell_type": "code",
   "execution_count": 17,
   "metadata": {
    "collapsed": true
   },
   "outputs": [],
   "source": [
    "from sklearn.ensemble import RandomForestClassifier"
   ]
  },
  {
   "cell_type": "code",
   "execution_count": 18,
   "metadata": {
    "collapsed": true
   },
   "outputs": [],
   "source": [
    "rfc = RandomForestClassifier(n_estimators = 10000)"
   ]
  },
  {
   "cell_type": "code",
   "execution_count": 20,
   "metadata": {
    "collapsed": false
   },
   "outputs": [
    {
     "data": {
      "text/plain": [
       "RandomForestClassifier(bootstrap=True, class_weight=None, criterion='gini',\n",
       "            max_depth=None, max_features='auto', max_leaf_nodes=None,\n",
       "            min_impurity_decrease=0.0, min_impurity_split=None,\n",
       "            min_samples_leaf=1, min_samples_split=2,\n",
       "            min_weight_fraction_leaf=0.0, n_estimators=10000, n_jobs=1,\n",
       "            oob_score=False, random_state=None, verbose=0,\n",
       "            warm_start=False)"
      ]
     },
     "execution_count": 20,
     "metadata": {},
     "output_type": "execute_result"
    }
   ],
   "source": [
    "rfc.fit(sc_X, y_train)"
   ]
  },
  {
   "cell_type": "code",
   "execution_count": 21,
   "metadata": {
    "collapsed": true
   },
   "outputs": [],
   "source": [
    "rfc_pred = rfc.predict(sc_test)"
   ]
  },
  {
   "cell_type": "code",
   "execution_count": 22,
   "metadata": {
    "collapsed": false
   },
   "outputs": [
    {
     "data": {
      "text/plain": [
       "(300,)"
      ]
     },
     "execution_count": 22,
     "metadata": {},
     "output_type": "execute_result"
    }
   ],
   "source": [
    "rfc_pred.shape"
   ]
  },
  {
   "cell_type": "code",
   "execution_count": 56,
   "metadata": {
    "collapsed": false
   },
   "outputs": [],
   "source": [
    "# rfc_pred"
   ]
  },
  {
   "cell_type": "code",
   "execution_count": 55,
   "metadata": {
    "collapsed": false
   },
   "outputs": [],
   "source": [
    "# y_test"
   ]
  },
  {
   "cell_type": "code",
   "execution_count": 24,
   "metadata": {
    "collapsed": true
   },
   "outputs": [],
   "source": [
    "from sklearn.metrics import (classification_report, confusion_matrix)"
   ]
  },
  {
   "cell_type": "code",
   "execution_count": 25,
   "metadata": {
    "collapsed": false
   },
   "outputs": [
    {
     "name": "stdout",
     "output_type": "stream",
     "text": [
      "             precision    recall  f1-score   support\n",
      "\n",
      "          0       0.78      0.93      0.85       209\n",
      "          1       0.71      0.40      0.51        91\n",
      "\n",
      "avg / total       0.76      0.77      0.74       300\n",
      "\n"
     ]
    }
   ],
   "source": [
    "print(classification_report(y_test, rfc_pred))"
   ]
  },
  {
   "cell_type": "code",
   "execution_count": 26,
   "metadata": {
    "collapsed": false
   },
   "outputs": [
    {
     "name": "stdout",
     "output_type": "stream",
     "text": [
      "[[194  15]\n",
      " [ 55  36]]\n"
     ]
    }
   ],
   "source": [
    "print(confusion_matrix(y_test, rfc_pred))"
   ]
  },
  {
   "cell_type": "markdown",
   "metadata": {},
   "source": [
    "## Using Logistic Regression"
   ]
  },
  {
   "cell_type": "code",
   "execution_count": 27,
   "metadata": {
    "collapsed": true
   },
   "outputs": [],
   "source": [
    "from sklearn.linear_model import LogisticRegression"
   ]
  },
  {
   "cell_type": "code",
   "execution_count": 28,
   "metadata": {
    "collapsed": true
   },
   "outputs": [],
   "source": [
    "lr = LogisticRegression(verbose = 3)"
   ]
  },
  {
   "cell_type": "code",
   "execution_count": 30,
   "metadata": {
    "collapsed": false
   },
   "outputs": [
    {
     "name": "stdout",
     "output_type": "stream",
     "text": [
      "[LibLinear]"
     ]
    },
    {
     "data": {
      "text/plain": [
       "LogisticRegression(C=1.0, class_weight=None, dual=False, fit_intercept=True,\n",
       "          intercept_scaling=1, max_iter=100, multi_class='ovr', n_jobs=1,\n",
       "          penalty='l2', random_state=None, solver='liblinear', tol=0.0001,\n",
       "          verbose=3, warm_start=False)"
      ]
     },
     "execution_count": 30,
     "metadata": {},
     "output_type": "execute_result"
    }
   ],
   "source": [
    "lr.fit(sc_X, y_train)"
   ]
  },
  {
   "cell_type": "code",
   "execution_count": 31,
   "metadata": {
    "collapsed": true
   },
   "outputs": [],
   "source": [
    "lr_pred = lr.predict(sc_test)"
   ]
  },
  {
   "cell_type": "code",
   "execution_count": 32,
   "metadata": {
    "collapsed": false
   },
   "outputs": [
    {
     "name": "stdout",
     "output_type": "stream",
     "text": [
      "             precision    recall  f1-score   support\n",
      "\n",
      "          0       0.79      0.90      0.84       209\n",
      "          1       0.67      0.46      0.55        91\n",
      "\n",
      "avg / total       0.75      0.77      0.75       300\n",
      "\n"
     ]
    }
   ],
   "source": [
    "print(classification_report(y_test, lr_pred))"
   ]
  },
  {
   "cell_type": "code",
   "execution_count": 33,
   "metadata": {
    "collapsed": false
   },
   "outputs": [
    {
     "name": "stdout",
     "output_type": "stream",
     "text": [
      "[[188  21]\n",
      " [ 49  42]]\n"
     ]
    }
   ],
   "source": [
    "print(confusion_matrix(y_test, lr_pred))"
   ]
  },
  {
   "cell_type": "markdown",
   "metadata": {},
   "source": [
    "## Using the Support Vector Classifier"
   ]
  },
  {
   "cell_type": "code",
   "execution_count": 34,
   "metadata": {
    "collapsed": true
   },
   "outputs": [],
   "source": [
    "from sklearn.svm import SVC"
   ]
  },
  {
   "cell_type": "code",
   "execution_count": 35,
   "metadata": {
    "collapsed": true
   },
   "outputs": [],
   "source": [
    "svc = SVC()"
   ]
  },
  {
   "cell_type": "code",
   "execution_count": 36,
   "metadata": {
    "collapsed": false
   },
   "outputs": [
    {
     "data": {
      "text/plain": [
       "SVC(C=1.0, cache_size=200, class_weight=None, coef0=0.0,\n",
       "  decision_function_shape='ovr', degree=3, gamma='auto', kernel='rbf',\n",
       "  max_iter=-1, probability=False, random_state=None, shrinking=True,\n",
       "  tol=0.001, verbose=False)"
      ]
     },
     "execution_count": 36,
     "metadata": {},
     "output_type": "execute_result"
    }
   ],
   "source": [
    "svc.fit(sc_X, y_train)"
   ]
  },
  {
   "cell_type": "code",
   "execution_count": 37,
   "metadata": {
    "collapsed": true
   },
   "outputs": [],
   "source": [
    "svc_pred = svc.predict(sc_test)"
   ]
  },
  {
   "cell_type": "code",
   "execution_count": 38,
   "metadata": {
    "collapsed": false
   },
   "outputs": [
    {
     "name": "stdout",
     "output_type": "stream",
     "text": [
      "             precision    recall  f1-score   support\n",
      "\n",
      "          0       0.76      0.91      0.83       209\n",
      "          1       0.62      0.34      0.44        91\n",
      "\n",
      "avg / total       0.72      0.74      0.71       300\n",
      "\n"
     ]
    }
   ],
   "source": [
    "print(classification_report(y_test, svc_pred))"
   ]
  },
  {
   "cell_type": "markdown",
   "metadata": {},
   "source": [
    "# Using Grid Search to find the optimal parameters for the SVC"
   ]
  },
  {
   "cell_type": "code",
   "execution_count": 46,
   "metadata": {
    "collapsed": true
   },
   "outputs": [],
   "source": [
    "from sklearn.model_selection import GridSearchCV"
   ]
  },
  {
   "cell_type": "code",
   "execution_count": 51,
   "metadata": {
    "collapsed": true
   },
   "outputs": [],
   "source": [
    "param_grid = {'C':[0.1, 1, 10, 100], 'gamma':[1, 0.1, 0.01, 0.001, 0.0001], 'kernel':['rbf', 'poly']}"
   ]
  },
  {
   "cell_type": "code",
   "execution_count": 52,
   "metadata": {
    "collapsed": false
   },
   "outputs": [],
   "source": [
    "grid = GridSearchCV(SVC(), param_grid, verbose=3)"
   ]
  },
  {
   "cell_type": "code",
   "execution_count": 54,
   "metadata": {
    "collapsed": false
   },
   "outputs": [
    {
     "name": "stdout",
     "output_type": "stream",
     "text": [
      "Fitting 3 folds for each of 40 candidates, totalling 120 fits\n",
      "[CV] kernel=rbf, C=0.1, gamma=1 ......................................\n",
      "[CV]  kernel=rbf, C=0.1, gamma=1, score=0.7008547008547008, total=   0.8s\n",
      "[CV] kernel=rbf, C=0.1, gamma=1 ......................................\n",
      "[CV]  kernel=rbf, C=0.1, gamma=1, score=0.7008547008547008, total=   0.0s\n",
      "[CV] kernel=rbf, C=0.1, gamma=1 ......................................\n"
     ]
    },
    {
     "name": "stderr",
     "output_type": "stream",
     "text": [
      "[Parallel(n_jobs=1)]: Done   1 out of   1 | elapsed:    1.0s remaining:    0.0s\n",
      "[Parallel(n_jobs=1)]: Done   2 out of   2 | elapsed:    1.1s remaining:    0.0s\n"
     ]
    },
    {
     "name": "stdout",
     "output_type": "stream",
     "text": [
      "[CV]  kernel=rbf, C=0.1, gamma=1, score=0.7025862068965517, total=   0.1s\n",
      "[CV] kernel=poly, C=0.1, gamma=1 .....................................\n",
      "[CV]  kernel=poly, C=0.1, gamma=1, score=0.6282051282051282, total= 1.6min\n",
      "[CV] kernel=poly, C=0.1, gamma=1 .....................................\n",
      "[CV]  kernel=poly, C=0.1, gamma=1, score=0.6794871794871795, total= 1.9min\n",
      "[CV] kernel=poly, C=0.1, gamma=1 .....................................\n",
      "[CV]  kernel=poly, C=0.1, gamma=1, score=0.6508620689655172, total= 3.0min\n",
      "[CV] kernel=rbf, C=0.1, gamma=0.1 ....................................\n",
      "[CV]  kernel=rbf, C=0.1, gamma=0.1, score=0.7008547008547008, total=   0.0s\n",
      "[CV] kernel=rbf, C=0.1, gamma=0.1 ....................................\n",
      "[CV]  kernel=rbf, C=0.1, gamma=0.1, score=0.7008547008547008, total=   0.0s\n",
      "[CV] kernel=rbf, C=0.1, gamma=0.1 ....................................\n",
      "[CV]  kernel=rbf, C=0.1, gamma=0.1, score=0.7025862068965517, total=   0.0s\n",
      "[CV] kernel=poly, C=0.1, gamma=0.1 ...................................\n",
      "[CV]  kernel=poly, C=0.1, gamma=0.1, score=0.6196581196581197, total= 2.0min\n",
      "[CV] kernel=poly, C=0.1, gamma=0.1 ...................................\n",
      "[CV]  kernel=poly, C=0.1, gamma=0.1, score=0.6709401709401709, total= 2.2min\n",
      "[CV] kernel=poly, C=0.1, gamma=0.1 ...................................\n",
      "[CV]  kernel=poly, C=0.1, gamma=0.1, score=0.646551724137931, total= 1.7min\n",
      "[CV] kernel=rbf, C=0.1, gamma=0.01 ...................................\n",
      "[CV]  kernel=rbf, C=0.1, gamma=0.01, score=0.7008547008547008, total=   0.0s\n",
      "[CV] kernel=rbf, C=0.1, gamma=0.01 ...................................\n",
      "[CV]  kernel=rbf, C=0.1, gamma=0.01, score=0.7008547008547008, total=   0.0s\n",
      "[CV] kernel=rbf, C=0.1, gamma=0.01 ...................................\n",
      "[CV]  kernel=rbf, C=0.1, gamma=0.01, score=0.7025862068965517, total=   0.0s\n",
      "[CV] kernel=poly, C=0.1, gamma=0.01 ..................................\n",
      "[CV]  kernel=poly, C=0.1, gamma=0.01, score=0.7478632478632479, total=   4.8s\n",
      "[CV] kernel=poly, C=0.1, gamma=0.01 ..................................\n",
      "[CV]  kernel=poly, C=0.1, gamma=0.01, score=0.7478632478632479, total=   2.3s\n",
      "[CV] kernel=poly, C=0.1, gamma=0.01 ..................................\n",
      "[CV]  kernel=poly, C=0.1, gamma=0.01, score=0.7801724137931034, total=   1.7s\n",
      "[CV] kernel=rbf, C=0.1, gamma=0.001 ..................................\n",
      "[CV]  kernel=rbf, C=0.1, gamma=0.001, score=0.7008547008547008, total=   0.0s\n",
      "[CV] kernel=rbf, C=0.1, gamma=0.001 ..................................\n",
      "[CV]  kernel=rbf, C=0.1, gamma=0.001, score=0.7008547008547008, total=   0.0s\n",
      "[CV] kernel=rbf, C=0.1, gamma=0.001 ..................................\n",
      "[CV]  kernel=rbf, C=0.1, gamma=0.001, score=0.7025862068965517, total=   0.0s\n",
      "[CV] kernel=poly, C=0.1, gamma=0.001 .................................\n",
      "[CV]  kernel=poly, C=0.1, gamma=0.001, score=0.7264957264957265, total=   0.0s\n",
      "[CV] kernel=poly, C=0.1, gamma=0.001 .................................\n",
      "[CV]  kernel=poly, C=0.1, gamma=0.001, score=0.6923076923076923, total=   0.0s\n",
      "[CV] kernel=poly, C=0.1, gamma=0.001 .................................\n",
      "[CV]  kernel=poly, C=0.1, gamma=0.001, score=0.728448275862069, total=   0.0s\n",
      "[CV] kernel=rbf, C=0.1, gamma=0.0001 .................................\n",
      "[CV]  kernel=rbf, C=0.1, gamma=0.0001, score=0.7008547008547008, total=   0.0s\n",
      "[CV] kernel=rbf, C=0.1, gamma=0.0001 .................................\n",
      "[CV]  kernel=rbf, C=0.1, gamma=0.0001, score=0.7008547008547008, total=   0.0s\n",
      "[CV] kernel=rbf, C=0.1, gamma=0.0001 .................................\n",
      "[CV]  kernel=rbf, C=0.1, gamma=0.0001, score=0.7025862068965517, total=   0.0s\n",
      "[CV] kernel=poly, C=0.1, gamma=0.0001 ................................\n",
      "[CV]  kernel=poly, C=0.1, gamma=0.0001, score=0.7051282051282052, total=   0.0s\n",
      "[CV] kernel=poly, C=0.1, gamma=0.0001 ................................\n",
      "[CV]  kernel=poly, C=0.1, gamma=0.0001, score=0.7008547008547008, total=   0.0s\n",
      "[CV] kernel=poly, C=0.1, gamma=0.0001 ................................\n",
      "[CV]  kernel=poly, C=0.1, gamma=0.0001, score=0.6982758620689655, total=   0.0s\n",
      "[CV] kernel=rbf, C=1, gamma=1 ........................................\n",
      "[CV]  kernel=rbf, C=1, gamma=1, score=0.7008547008547008, total=   0.0s\n",
      "[CV] kernel=rbf, C=1, gamma=1 ........................................\n",
      "[CV]  kernel=rbf, C=1, gamma=1, score=0.7008547008547008, total=   0.0s\n",
      "[CV] kernel=rbf, C=1, gamma=1 ........................................\n",
      "[CV]  kernel=rbf, C=1, gamma=1, score=0.7025862068965517, total=   0.0s\n",
      "[CV] kernel=poly, C=1, gamma=1 .......................................\n",
      "[CV]  kernel=poly, C=1, gamma=1, score=0.6282051282051282, total= 2.0min\n",
      "[CV] kernel=poly, C=1, gamma=1 .......................................\n",
      "[CV]  kernel=poly, C=1, gamma=1, score=0.6794871794871795, total= 2.5min\n",
      "[CV] kernel=poly, C=1, gamma=1 .......................................\n",
      "[CV]  kernel=poly, C=1, gamma=1, score=0.6508620689655172, total= 3.1min\n",
      "[CV] kernel=rbf, C=1, gamma=0.1 ......................................\n",
      "[CV]  kernel=rbf, C=1, gamma=0.1, score=0.6923076923076923, total=   0.0s\n",
      "[CV] kernel=rbf, C=1, gamma=0.1 ......................................\n",
      "[CV]  kernel=rbf, C=1, gamma=0.1, score=0.7008547008547008, total=   0.0s\n",
      "[CV] kernel=rbf, C=1, gamma=0.1 ......................................\n",
      "[CV]  kernel=rbf, C=1, gamma=0.1, score=0.7025862068965517, total=   0.0s\n",
      "[CV] kernel=poly, C=1, gamma=0.1 .....................................\n",
      "[CV]  kernel=poly, C=1, gamma=0.1, score=0.6196581196581197, total= 1.6min\n",
      "[CV] kernel=poly, C=1, gamma=0.1 .....................................\n",
      "[CV]  kernel=poly, C=1, gamma=0.1, score=0.6752136752136753, total= 2.0min\n",
      "[CV] kernel=poly, C=1, gamma=0.1 .....................................\n",
      "[CV]  kernel=poly, C=1, gamma=0.1, score=0.646551724137931, total= 2.3min\n",
      "[CV] kernel=rbf, C=1, gamma=0.01 .....................................\n",
      "[CV]  kernel=rbf, C=1, gamma=0.01, score=0.7136752136752137, total=   0.0s\n",
      "[CV] kernel=rbf, C=1, gamma=0.01 .....................................\n",
      "[CV]  kernel=rbf, C=1, gamma=0.01, score=0.7264957264957265, total=   0.0s\n",
      "[CV] kernel=rbf, C=1, gamma=0.01 .....................................\n",
      "[CV] .......... kernel=rbf, C=1, gamma=0.01, score=0.75, total=   0.0s\n",
      "[CV] kernel=poly, C=1, gamma=0.01 ....................................\n",
      "[CV]  kernel=poly, C=1, gamma=0.01, score=0.6965811965811965, total=  21.2s\n",
      "[CV] kernel=poly, C=1, gamma=0.01 ....................................\n",
      "[CV]  kernel=poly, C=1, gamma=0.01, score=0.7307692307692307, total=  20.3s\n",
      "[CV] kernel=poly, C=1, gamma=0.01 ....................................\n",
      "[CV]  kernel=poly, C=1, gamma=0.01, score=0.728448275862069, total=  24.9s\n",
      "[CV] kernel=rbf, C=1, gamma=0.001 ....................................\n",
      "[CV]  kernel=rbf, C=1, gamma=0.001, score=0.6923076923076923, total=   0.0s\n",
      "[CV] kernel=rbf, C=1, gamma=0.001 ....................................\n",
      "[CV]  kernel=rbf, C=1, gamma=0.001, score=0.688034188034188, total=   0.0s\n",
      "[CV] kernel=rbf, C=1, gamma=0.001 ....................................\n",
      "[CV]  kernel=rbf, C=1, gamma=0.001, score=0.7155172413793104, total=   0.0s\n",
      "[CV] kernel=poly, C=1, gamma=0.001 ...................................\n",
      "[CV]  kernel=poly, C=1, gamma=0.001, score=0.7222222222222222, total=   0.0s\n",
      "[CV] kernel=poly, C=1, gamma=0.001 ...................................\n",
      "[CV]  kernel=poly, C=1, gamma=0.001, score=0.7051282051282052, total=   0.0s\n",
      "[CV] kernel=poly, C=1, gamma=0.001 ...................................\n",
      "[CV]  kernel=poly, C=1, gamma=0.001, score=0.7413793103448276, total=   0.0s\n",
      "[CV] kernel=rbf, C=1, gamma=0.0001 ...................................\n",
      "[CV]  kernel=rbf, C=1, gamma=0.0001, score=0.6965811965811965, total=   0.0s\n",
      "[CV] kernel=rbf, C=1, gamma=0.0001 ...................................\n",
      "[CV]  kernel=rbf, C=1, gamma=0.0001, score=0.7008547008547008, total=   0.0s\n",
      "[CV] kernel=rbf, C=1, gamma=0.0001 ...................................\n",
      "[CV]  kernel=rbf, C=1, gamma=0.0001, score=0.7025862068965517, total=   0.0s\n",
      "[CV] kernel=poly, C=1, gamma=0.0001 ..................................\n",
      "[CV]  kernel=poly, C=1, gamma=0.0001, score=0.7094017094017094, total=   0.0s\n",
      "[CV] kernel=poly, C=1, gamma=0.0001 ..................................\n",
      "[CV]  kernel=poly, C=1, gamma=0.0001, score=0.7136752136752137, total=   0.0s\n",
      "[CV] kernel=poly, C=1, gamma=0.0001 ..................................\n",
      "[CV]  kernel=poly, C=1, gamma=0.0001, score=0.7068965517241379, total=   0.0s\n",
      "[CV] kernel=rbf, C=10, gamma=1 .......................................\n",
      "[CV]  kernel=rbf, C=10, gamma=1, score=0.7008547008547008, total=   0.0s\n",
      "[CV] kernel=rbf, C=10, gamma=1 .......................................\n",
      "[CV]  kernel=rbf, C=10, gamma=1, score=0.7008547008547008, total=   0.0s\n",
      "[CV] kernel=rbf, C=10, gamma=1 .......................................\n",
      "[CV]  kernel=rbf, C=10, gamma=1, score=0.7025862068965517, total=   0.0s\n",
      "[CV] kernel=poly, C=10, gamma=1 ......................................\n",
      "[CV]  kernel=poly, C=10, gamma=1, score=0.6282051282051282, total= 1.4min\n",
      "[CV] kernel=poly, C=10, gamma=1 ......................................\n",
      "[CV]  kernel=poly, C=10, gamma=1, score=0.6794871794871795, total= 2.2min\n",
      "[CV] kernel=poly, C=10, gamma=1 ......................................\n",
      "[CV]  kernel=poly, C=10, gamma=1, score=0.6508620689655172, total= 3.1min\n",
      "[CV] kernel=rbf, C=10, gamma=0.1 .....................................\n",
      "[CV]  kernel=rbf, C=10, gamma=0.1, score=0.6923076923076923, total=   0.0s\n",
      "[CV] kernel=rbf, C=10, gamma=0.1 .....................................\n",
      "[CV]  kernel=rbf, C=10, gamma=0.1, score=0.6923076923076923, total=   0.0s\n",
      "[CV] kernel=rbf, C=10, gamma=0.1 .....................................\n",
      "[CV]  kernel=rbf, C=10, gamma=0.1, score=0.6896551724137931, total=   0.0s\n",
      "[CV] kernel=poly, C=10, gamma=0.1 ....................................\n",
      "[CV]  kernel=poly, C=10, gamma=0.1, score=0.6196581196581197, total= 2.2min\n",
      "[CV] kernel=poly, C=10, gamma=0.1 ....................................\n",
      "[CV]  kernel=poly, C=10, gamma=0.1, score=0.6752136752136753, total= 2.3min\n",
      "[CV] kernel=poly, C=10, gamma=0.1 ....................................\n",
      "[CV]  kernel=poly, C=10, gamma=0.1, score=0.646551724137931, total= 2.2min\n",
      "[CV] kernel=rbf, C=10, gamma=0.01 ....................................\n",
      "[CV]  kernel=rbf, C=10, gamma=0.01, score=0.6923076923076923, total=   0.0s\n",
      "[CV] kernel=rbf, C=10, gamma=0.01 ....................................\n",
      "[CV]  kernel=rbf, C=10, gamma=0.01, score=0.7264957264957265, total=   0.0s\n",
      "[CV] kernel=rbf, C=10, gamma=0.01 ....................................\n",
      "[CV]  kernel=rbf, C=10, gamma=0.01, score=0.7155172413793104, total=   0.0s\n",
      "[CV] kernel=poly, C=10, gamma=0.01 ...................................\n",
      "[CV]  kernel=poly, C=10, gamma=0.01, score=0.6923076923076923, total= 1.0min\n",
      "[CV] kernel=poly, C=10, gamma=0.01 ...................................\n",
      "[CV]  kernel=poly, C=10, gamma=0.01, score=0.6923076923076923, total=  59.3s\n",
      "[CV] kernel=poly, C=10, gamma=0.01 ...................................\n",
      "[CV]  kernel=poly, C=10, gamma=0.01, score=0.7025862068965517, total= 1.5min\n",
      "[CV] kernel=rbf, C=10, gamma=0.001 ...................................\n",
      "[CV]  kernel=rbf, C=10, gamma=0.001, score=0.7136752136752137, total=   0.0s\n",
      "[CV] kernel=rbf, C=10, gamma=0.001 ...................................\n",
      "[CV]  kernel=rbf, C=10, gamma=0.001, score=0.7393162393162394, total=   0.0s\n",
      "[CV] kernel=rbf, C=10, gamma=0.001 ...................................\n",
      "[CV]  kernel=rbf, C=10, gamma=0.001, score=0.7672413793103449, total=   0.0s\n",
      "[CV] kernel=poly, C=10, gamma=0.001 ..................................\n",
      "[CV]  kernel=poly, C=10, gamma=0.001, score=0.7222222222222222, total=   0.7s\n",
      "[CV] kernel=poly, C=10, gamma=0.001 ..................................\n",
      "[CV]  kernel=poly, C=10, gamma=0.001, score=0.7435897435897436, total=   0.6s\n",
      "[CV] kernel=poly, C=10, gamma=0.001 ..................................\n",
      "[CV]  kernel=poly, C=10, gamma=0.001, score=0.7801724137931034, total=   0.8s\n",
      "[CV] kernel=rbf, C=10, gamma=0.0001 ..................................\n",
      "[CV]  kernel=rbf, C=10, gamma=0.0001, score=0.6923076923076923, total=   0.0s\n",
      "[CV] kernel=rbf, C=10, gamma=0.0001 ..................................\n",
      "[CV]  kernel=rbf, C=10, gamma=0.0001, score=0.7008547008547008, total=   0.0s\n",
      "[CV] kernel=rbf, C=10, gamma=0.0001 ..................................\n",
      "[CV]  kernel=rbf, C=10, gamma=0.0001, score=0.7155172413793104, total=   0.0s\n",
      "[CV] kernel=poly, C=10, gamma=0.0001 .................................\n",
      "[CV]  kernel=poly, C=10, gamma=0.0001, score=0.7136752136752137, total=   0.0s\n",
      "[CV] kernel=poly, C=10, gamma=0.0001 .................................\n",
      "[CV]  kernel=poly, C=10, gamma=0.0001, score=0.717948717948718, total=   0.0s\n",
      "[CV] kernel=poly, C=10, gamma=0.0001 .................................\n",
      "[CV]  kernel=poly, C=10, gamma=0.0001, score=0.7155172413793104, total=   0.0s\n",
      "[CV] kernel=rbf, C=100, gamma=1 ......................................\n",
      "[CV]  kernel=rbf, C=100, gamma=1, score=0.7008547008547008, total=   0.0s\n",
      "[CV] kernel=rbf, C=100, gamma=1 ......................................\n",
      "[CV]  kernel=rbf, C=100, gamma=1, score=0.7008547008547008, total=   0.0s\n",
      "[CV] kernel=rbf, C=100, gamma=1 ......................................\n",
      "[CV]  kernel=rbf, C=100, gamma=1, score=0.7025862068965517, total=   0.0s\n",
      "[CV] kernel=poly, C=100, gamma=1 .....................................\n",
      "[CV]  kernel=poly, C=100, gamma=1, score=0.6282051282051282, total= 1.9min\n",
      "[CV] kernel=poly, C=100, gamma=1 .....................................\n",
      "[CV]  kernel=poly, C=100, gamma=1, score=0.6794871794871795, total= 1.9min\n",
      "[CV] kernel=poly, C=100, gamma=1 .....................................\n",
      "[CV]  kernel=poly, C=100, gamma=1, score=0.6508620689655172, total= 2.6min\n",
      "[CV] kernel=rbf, C=100, gamma=0.1 ....................................\n",
      "[CV]  kernel=rbf, C=100, gamma=0.1, score=0.6923076923076923, total=   0.0s\n",
      "[CV] kernel=rbf, C=100, gamma=0.1 ....................................\n",
      "[CV]  kernel=rbf, C=100, gamma=0.1, score=0.6923076923076923, total=   0.0s\n",
      "[CV] kernel=rbf, C=100, gamma=0.1 ....................................\n",
      "[CV]  kernel=rbf, C=100, gamma=0.1, score=0.6896551724137931, total=   0.0s\n",
      "[CV] kernel=poly, C=100, gamma=0.1 ...................................\n",
      "[CV]  kernel=poly, C=100, gamma=0.1, score=0.6196581196581197, total= 1.3min\n",
      "[CV] kernel=poly, C=100, gamma=0.1 ...................................\n",
      "[CV]  kernel=poly, C=100, gamma=0.1, score=0.6752136752136753, total= 1.9min\n",
      "[CV] kernel=poly, C=100, gamma=0.1 ...................................\n",
      "[CV]  kernel=poly, C=100, gamma=0.1, score=0.646551724137931, total= 1.8min\n",
      "[CV] kernel=rbf, C=100, gamma=0.01 ...................................\n",
      "[CV]  kernel=rbf, C=100, gamma=0.01, score=0.688034188034188, total=   0.0s\n",
      "[CV] kernel=rbf, C=100, gamma=0.01 ...................................\n",
      "[CV]  kernel=rbf, C=100, gamma=0.01, score=0.7264957264957265, total=   0.0s\n",
      "[CV] kernel=rbf, C=100, gamma=0.01 ...................................\n",
      "[CV]  kernel=rbf, C=100, gamma=0.01, score=0.6767241379310345, total=   0.0s\n",
      "[CV] kernel=poly, C=100, gamma=0.01 ..................................\n",
      "[CV]  kernel=poly, C=100, gamma=0.01, score=0.6196581196581197, total= 1.7min\n",
      "[CV] kernel=poly, C=100, gamma=0.01 ..................................\n",
      "[CV]  kernel=poly, C=100, gamma=0.01, score=0.6666666666666666, total= 1.2min\n",
      "[CV] kernel=poly, C=100, gamma=0.01 ..................................\n",
      "[CV]  kernel=poly, C=100, gamma=0.01, score=0.6594827586206896, total= 2.1min\n",
      "[CV] kernel=rbf, C=100, gamma=0.001 ..................................\n",
      "[CV]  kernel=rbf, C=100, gamma=0.001, score=0.7649572649572649, total=   0.0s\n",
      "[CV] kernel=rbf, C=100, gamma=0.001 ..................................\n",
      "[CV]  kernel=rbf, C=100, gamma=0.001, score=0.7136752136752137, total=   0.0s\n",
      "[CV] kernel=rbf, C=100, gamma=0.001 ..................................\n",
      "[CV]  kernel=rbf, C=100, gamma=0.001, score=0.8060344827586207, total=   0.0s\n",
      "[CV] kernel=poly, C=100, gamma=0.001 .................................\n",
      "[CV]  kernel=poly, C=100, gamma=0.001, score=0.7478632478632479, total=   6.4s\n",
      "[CV] kernel=poly, C=100, gamma=0.001 .................................\n",
      "[CV]  kernel=poly, C=100, gamma=0.001, score=0.7478632478632479, total=   5.3s\n",
      "[CV] kernel=poly, C=100, gamma=0.001 .................................\n",
      "[CV]  kernel=poly, C=100, gamma=0.001, score=0.7801724137931034, total=   4.7s\n",
      "[CV] kernel=rbf, C=100, gamma=0.0001 .................................\n",
      "[CV]  kernel=rbf, C=100, gamma=0.0001, score=0.7606837606837606, total=   0.0s\n",
      "[CV] kernel=rbf, C=100, gamma=0.0001 .................................\n",
      "[CV]  kernel=rbf, C=100, gamma=0.0001, score=0.7094017094017094, total=   0.0s\n",
      "[CV] kernel=rbf, C=100, gamma=0.0001 .................................\n",
      "[CV]  kernel=rbf, C=100, gamma=0.0001, score=0.7844827586206896, total=   0.0s\n",
      "[CV] kernel=poly, C=100, gamma=0.0001 ................................\n",
      "[CV]  kernel=poly, C=100, gamma=0.0001, score=0.7264957264957265, total=   0.0s\n",
      "[CV] kernel=poly, C=100, gamma=0.0001 ................................\n",
      "[CV]  kernel=poly, C=100, gamma=0.0001, score=0.6923076923076923, total=   0.0s\n",
      "[CV] kernel=poly, C=100, gamma=0.0001 ................................\n",
      "[CV]  kernel=poly, C=100, gamma=0.0001, score=0.728448275862069, total=   0.0s\n"
     ]
    },
    {
     "name": "stderr",
     "output_type": "stream",
     "text": [
      "[Parallel(n_jobs=1)]: Done 120 out of 120 | elapsed: 60.8min finished\n"
     ]
    },
    {
     "data": {
      "text/plain": [
       "GridSearchCV(cv=None, error_score='raise',\n",
       "       estimator=SVC(C=1.0, cache_size=200, class_weight=None, coef0=0.0,\n",
       "  decision_function_shape='ovr', degree=3, gamma='auto', kernel='rbf',\n",
       "  max_iter=-1, probability=False, random_state=None, shrinking=True,\n",
       "  tol=0.001, verbose=False),\n",
       "       fit_params=None, iid=True, n_jobs=1,\n",
       "       param_grid={'kernel': ['rbf', 'poly'], 'C': [0.1, 1, 10, 100], 'gamma': [1, 0.1, 0.01, 0.001, 0.0001]},\n",
       "       pre_dispatch='2*n_jobs', refit=True, return_train_score='warn',\n",
       "       scoring=None, verbose=3)"
      ]
     },
     "execution_count": 54,
     "metadata": {},
     "output_type": "execute_result"
    }
   ],
   "source": [
    "grid.fit(X_train, y_train)"
   ]
  },
  {
   "cell_type": "markdown",
   "metadata": {},
   "source": [
    " kernel=rbf, C=100, gamma=0.001,"
   ]
  },
  {
   "cell_type": "code",
   "execution_count": 48,
   "metadata": {
    "collapsed": true
   },
   "outputs": [],
   "source": [
    "svcGS1 = SVC(kernel='rbf', C=100, gamma=0.001)"
   ]
  },
  {
   "cell_type": "code",
   "execution_count": 54,
   "metadata": {
    "collapsed": false
   },
   "outputs": [],
   "source": [
    "# grid.best_params_ \n",
    "# to check the best params"
   ]
  },
  {
   "cell_type": "code",
   "execution_count": 49,
   "metadata": {
    "collapsed": false
   },
   "outputs": [
    {
     "data": {
      "text/plain": [
       "SVC(C=100, cache_size=200, class_weight=None, coef0=0.0,\n",
       "  decision_function_shape='ovr', degree=3, gamma=0.001, kernel='rbf',\n",
       "  max_iter=-1, probability=False, random_state=None, shrinking=True,\n",
       "  tol=0.001, verbose=False)"
      ]
     },
     "execution_count": 49,
     "metadata": {},
     "output_type": "execute_result"
    }
   ],
   "source": [
    "svcGS1.fit(sc_X, y_train)"
   ]
  },
  {
   "cell_type": "code",
   "execution_count": 50,
   "metadata": {
    "collapsed": false
   },
   "outputs": [],
   "source": [
    "svcGS1_pred = svcGS1.predict(sc_test)"
   ]
  },
  {
   "cell_type": "code",
   "execution_count": 59,
   "metadata": {
    "collapsed": false
   },
   "outputs": [
    {
     "name": "stdout",
     "output_type": "stream",
     "text": [
      "             precision    recall  f1-score   support\n",
      "\n",
      "          0       0.79      0.91      0.84       209\n",
      "          1       0.67      0.43      0.52        91\n",
      "\n",
      "avg / total       0.75      0.76      0.75       300\n",
      "\n"
     ]
    }
   ],
   "source": [
    "print(classification_report(y_test, svcGS1_pred))"
   ]
  },
  {
   "cell_type": "markdown",
   "metadata": {},
   "source": [
    "# I will be adding better methods when I figure them out.\n",
    "## Also feel free to Pull Request when you get better accuracy.\n"
   ]
  },
  {
   "cell_type": "markdown",
   "metadata": {},
   "source": [
    "## This dataset itself could be a constraint here. But still, there is always a better result."
   ]
  }
 ],
 "metadata": {
  "anaconda-cloud": {},
  "kernelspec": {
   "display_name": "Python [conda root]",
   "language": "python",
   "name": "conda-root-py"
  },
  "language_info": {
   "codemirror_mode": {
    "name": "ipython",
    "version": 3
   },
   "file_extension": ".py",
   "mimetype": "text/x-python",
   "name": "python",
   "nbconvert_exporter": "python",
   "pygments_lexer": "ipython3",
   "version": "3.5.4"
  }
 },
 "nbformat": 4,
 "nbformat_minor": 2
}
